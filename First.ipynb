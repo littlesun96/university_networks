{
 "cells": [
  {
   "cell_type": "code",
   "execution_count": 1,
   "metadata": {
    "collapsed": true
   },
   "outputs": [],
   "source": [
    "import numpy as np"
   ]
  },
  {
   "cell_type": "code",
   "execution_count": 2,
   "metadata": {},
   "outputs": [
    {
     "name": "stderr",
     "output_type": "stream",
     "text": [
      "Using TensorFlow backend.\n"
     ]
    }
   ],
   "source": [
    "from keras.models import Model\n",
    "from keras.layers import Input, Dense, Activation\n",
    "from keras.activations import sigmoid, softmax, tanh, linear"
   ]
  },
  {
   "cell_type": "code",
   "execution_count": 3,
   "metadata": {
    "collapsed": true
   },
   "outputs": [],
   "source": [
    "inp = Input(shape=(25,), name = 'inp')\n",
    "dense1 = Dense(50, activation = sigmoid)(inp)\n",
    "outp_qvalues = Dense(25, activation = linear, name = 'outp_qvalues')(dense1)\n",
    "outp_probs = Activation(activation = softmax, name = 'outp_probs')(outp_qvalues)"
   ]
  },
  {
   "cell_type": "code",
   "execution_count": 4,
   "metadata": {
    "collapsed": true
   },
   "outputs": [],
   "source": [
    "model = Model(inputs=inp, outputs=[outp_qvalues, outp_probs])"
   ]
  },
  {
   "cell_type": "code",
   "execution_count": 5,
   "metadata": {
    "collapsed": true
   },
   "outputs": [],
   "source": [
    "losses = {\n",
    "    \"outp_qvalues\": \"mean_squared_error\"\n",
    "}"
   ]
  },
  {
   "cell_type": "code",
   "execution_count": 6,
   "metadata": {},
   "outputs": [
    {
     "name": "stderr",
     "output_type": "stream",
     "text": [
      "C:\\Users\\yusacheva\\AppData\\Local\\conda\\conda\\envs\\university\\lib\\site-packages\\ipykernel_launcher.py:1: UserWarning: Output \"outp_probs\" missing from loss dictionary. We assume this was done on purpose, and we will not be expecting any data to be passed to \"outp_probs\" during training.\n",
      "  \"\"\"Entry point for launching an IPython kernel.\n"
     ]
    }
   ],
   "source": [
    "model.compile(optimizer='sgd', loss=losses, metrics=['accuracy'])"
   ]
  },
  {
   "cell_type": "code",
   "execution_count": 7,
   "metadata": {},
   "outputs": [
    {
     "name": "stdout",
     "output_type": "stream",
     "text": [
      "_________________________________________________________________\n",
      "Layer (type)                 Output Shape              Param #   \n",
      "=================================================================\n",
      "inp (InputLayer)             (None, 25)                0         \n",
      "_________________________________________________________________\n",
      "dense_1 (Dense)              (None, 50)                1300      \n",
      "_________________________________________________________________\n",
      "outp_qvalues (Dense)         (None, 25)                1275      \n",
      "_________________________________________________________________\n",
      "outp_probs (Activation)      (None, 25)                0         \n",
      "=================================================================\n",
      "Total params: 2,575\n",
      "Trainable params: 2,575\n",
      "Non-trainable params: 0\n",
      "_________________________________________________________________\n"
     ]
    }
   ],
   "source": [
    "model.summary()"
   ]
  },
  {
   "cell_type": "code",
   "execution_count": 8,
   "metadata": {
    "collapsed": true
   },
   "outputs": [],
   "source": [
    "from keras.models import save_model"
   ]
  },
  {
   "cell_type": "code",
   "execution_count": 9,
   "metadata": {
    "collapsed": true
   },
   "outputs": [],
   "source": [
    "# model.save(\"first.h5\")"
   ]
  },
  {
   "cell_type": "code",
   "execution_count": 10,
   "metadata": {
    "collapsed": true
   },
   "outputs": [],
   "source": [
    "a = np.array([[0, 0, 0, 0, 0, 0, 0, 0, 0, 0, 0, 0, -1, 0, 0, 0, 0, 0, 0, 0, 0, 0, 0, 0, 0]])"
   ]
  },
  {
   "cell_type": "code",
   "execution_count": 11,
   "metadata": {},
   "outputs": [
    {
     "data": {
      "text/plain": [
       "(1, 25)"
      ]
     },
     "execution_count": 11,
     "metadata": {},
     "output_type": "execute_result"
    }
   ],
   "source": [
    "a.shape"
   ]
  },
  {
   "cell_type": "code",
   "execution_count": null,
   "metadata": {
    "collapsed": true
   },
   "outputs": [],
   "source": []
  },
  {
   "cell_type": "code",
   "execution_count": 12,
   "metadata": {
    "collapsed": true
   },
   "outputs": [],
   "source": [
    "y = model.predict(a)"
   ]
  },
  {
   "cell_type": "code",
   "execution_count": 13,
   "metadata": {},
   "outputs": [
    {
     "data": {
      "text/plain": [
       "[array([[-8.96071345e-02, -6.57381475e-01, -4.15291935e-01,\n",
       "          2.37016395e-01,  4.41862673e-01, -9.94500369e-02,\n",
       "          1.54145464e-01, -6.19319439e-01,  2.41044626e-01,\n",
       "          2.79939473e-01, -9.08659697e-02,  1.01639640e+00,\n",
       "          3.73314112e-01, -5.09077907e-01,  2.15284914e-01,\n",
       "          1.03858745e+00, -1.21128120e-01, -1.23246685e-02,\n",
       "         -3.85141373e-01, -6.97715282e-02, -9.00093913e-01,\n",
       "         -6.92906976e-01,  1.00707030e+00, -5.12834638e-04,\n",
       "         -4.55411702e-01]], dtype=float32),\n",
       " array([[0.03187729, 0.01806759, 0.02301645, 0.04419083, 0.05423702,\n",
       "         0.03156506, 0.04067633, 0.01876853, 0.0443692 , 0.04612894,\n",
       "         0.03183719, 0.09634133, 0.05064371, 0.02095596, 0.04324086,\n",
       "         0.09850314, 0.03088816, 0.03443854, 0.02372097, 0.03251591,\n",
       "         0.01417397, 0.01743699, 0.09544701, 0.03484773, 0.02211131]],\n",
       "       dtype=float32)]"
      ]
     },
     "execution_count": 13,
     "metadata": {},
     "output_type": "execute_result"
    }
   ],
   "source": [
    "y"
   ]
  },
  {
   "cell_type": "code",
   "execution_count": 22,
   "metadata": {},
   "outputs": [],
   "source": [
    "kk = y[1]"
   ]
  },
  {
   "cell_type": "code",
   "execution_count": 47,
   "metadata": {},
   "outputs": [
    {
     "data": {
      "text/plain": [
       "array([[0.03187729, 0.01806759, 0.02301645, 0.04419083, 0.05423702,\n",
       "        0.03156506, 0.04067633, 0.01876853, 0.0443692 , 0.04612894,\n",
       "        0.03183719, 0.09634133, 0.05064371, 0.02095596, 0.04324086,\n",
       "        0.09850314, 0.03088816, 0.03443854, 0.02372097, 0.03251591,\n",
       "        0.01417397, 0.01743699, 0.09544701, 0.03484773, 0.02211131]],\n",
       "      dtype=float32)"
      ]
     },
     "execution_count": 47,
     "metadata": {},
     "output_type": "execute_result"
    }
   ],
   "source": [
    "kk"
   ]
  },
  {
   "cell_type": "code",
   "execution_count": 48,
   "metadata": {},
   "outputs": [],
   "source": [
    "ind = np.argmax(kk) + 1"
   ]
  },
  {
   "cell_type": "code",
   "execution_count": 49,
   "metadata": {},
   "outputs": [],
   "source": [
    "a_x = ind % 5\n",
    "a_y = int(ind / 5)"
   ]
  },
  {
   "cell_type": "code",
   "execution_count": 50,
   "metadata": {},
   "outputs": [
    {
     "data": {
      "text/plain": [
       "1"
      ]
     },
     "execution_count": 50,
     "metadata": {},
     "output_type": "execute_result"
    }
   ],
   "source": [
    "a_x"
   ]
  },
  {
   "cell_type": "code",
   "execution_count": 51,
   "metadata": {},
   "outputs": [
    {
     "data": {
      "text/plain": [
       "3"
      ]
     },
     "execution_count": 51,
     "metadata": {},
     "output_type": "execute_result"
    }
   ],
   "source": [
    "a_y"
   ]
  },
  {
   "cell_type": "code",
   "execution_count": 57,
   "metadata": {},
   "outputs": [],
   "source": [
    "kk[0][ind - 1] = 0"
   ]
  },
  {
   "cell_type": "code",
   "execution_count": 58,
   "metadata": {},
   "outputs": [
    {
     "data": {
      "text/plain": [
       "11"
      ]
     },
     "execution_count": 58,
     "metadata": {},
     "output_type": "execute_result"
    }
   ],
   "source": [
    "np.argmax(kk)"
   ]
  },
  {
   "cell_type": "code",
   "execution_count": 25,
   "metadata": {
    "collapsed": true
   },
   "outputs": [],
   "source": [
    "kkk = [3, 4, 1, 0]"
   ]
  },
  {
   "cell_type": "code",
   "execution_count": 26,
   "metadata": {
    "collapsed": true
   },
   "outputs": [],
   "source": [
    "mm = np.array(kkk)"
   ]
  },
  {
   "cell_type": "code",
   "execution_count": 31,
   "metadata": {},
   "outputs": [
    {
     "data": {
      "text/plain": [
       "1"
      ]
     },
     "execution_count": 31,
     "metadata": {},
     "output_type": "execute_result"
    }
   ],
   "source": [
    "np.argmax(kkk)"
   ]
  },
  {
   "cell_type": "code",
   "execution_count": null,
   "metadata": {
    "collapsed": true
   },
   "outputs": [],
   "source": []
  },
  {
   "cell_type": "code",
   "execution_count": 19,
   "metadata": {},
   "outputs": [],
   "source": [
    "b = np.zeros((1, 25))"
   ]
  },
  {
   "cell_type": "code",
   "execution_count": 20,
   "metadata": {},
   "outputs": [
    {
     "data": {
      "text/plain": [
       "array([[0., 0., 0., 0., 0., 0., 0., 0., 0., 0., 0., 0., 0., 0., 0., 0.,\n",
       "        0., 0., 0., 0., 0., 0., 0., 0., 0.]])"
      ]
     },
     "execution_count": 20,
     "metadata": {},
     "output_type": "execute_result"
    }
   ],
   "source": [
    "b"
   ]
  },
  {
   "cell_type": "code",
   "execution_count": null,
   "metadata": {
    "collapsed": true
   },
   "outputs": [],
   "source": []
  },
  {
   "cell_type": "code",
   "execution_count": 59,
   "metadata": {
    "collapsed": true
   },
   "outputs": [],
   "source": [
    "from keras.models import load_model"
   ]
  },
  {
   "cell_type": "code",
   "execution_count": 60,
   "metadata": {},
   "outputs": [
    {
     "name": "stderr",
     "output_type": "stream",
     "text": [
      "C:\\Users\\yusacheva\\AppData\\Local\\conda\\conda\\envs\\university\\lib\\site-packages\\keras\\engine\\saving.py:312: UserWarning: Output \"outp_probs\" missing from loss dictionary. We assume this was done on purpose, and we will not be expecting any data to be passed to \"outp_probs\" during training.\n",
      "  sample_weight_mode=sample_weight_mode)\n"
     ]
    }
   ],
   "source": [
    "l_model = load_model('first.h5')"
   ]
  },
  {
   "cell_type": "code",
   "execution_count": 61,
   "metadata": {},
   "outputs": [
    {
     "data": {
      "text/plain": [
       "[array([[-0.34292877, -0.43087977, -0.37743697, -0.3891447 ,  1.1803552 ,\n",
       "         -1.1622374 ,  0.56889254, -0.27675983, -0.08712399,  1.6129327 ,\n",
       "          0.19450429,  0.24993993, -0.7557677 , -0.84845585,  0.350111  ,\n",
       "         -0.5962233 ,  0.7107175 ,  0.14006963, -0.6233464 ,  0.22597387,\n",
       "         -0.43275866, -0.30041355, -0.40994394, -0.47744262,  0.09003142]],\n",
       "       dtype=float32),\n",
       " array([[0.02459134, 0.02252089, 0.02375721, 0.02348069, 0.11280701,\n",
       "         0.0108383 , 0.0612042 , 0.02627357, 0.03175974, 0.17386097,\n",
       "         0.04209073, 0.04448994, 0.01627378, 0.01483319, 0.0491774 ,\n",
       "         0.01908877, 0.07053018, 0.03986078, 0.01857798, 0.04343637,\n",
       "         0.02247862, 0.02565939, 0.02299736, 0.02149629, 0.0379153 ]],\n",
       "       dtype=float32)]"
      ]
     },
     "execution_count": 61,
     "metadata": {},
     "output_type": "execute_result"
    }
   ],
   "source": [
    "l_model.predict(a)"
   ]
  },
  {
   "cell_type": "code",
   "execution_count": null,
   "metadata": {
    "collapsed": true
   },
   "outputs": [],
   "source": []
  },
  {
   "cell_type": "code",
   "execution_count": null,
   "metadata": {
    "collapsed": true
   },
   "outputs": [],
   "source": []
  },
  {
   "cell_type": "code",
   "execution_count": null,
   "metadata": {
    "collapsed": true
   },
   "outputs": [],
   "source": []
  }
 ],
 "metadata": {
  "kernelspec": {
   "display_name": "Python 3",
   "language": "python",
   "name": "python3"
  },
  "language_info": {
   "codemirror_mode": {
    "name": "ipython",
    "version": 3
   },
   "file_extension": ".py",
   "mimetype": "text/x-python",
   "name": "python",
   "nbconvert_exporter": "python",
   "pygments_lexer": "ipython3",
   "version": "3.5.4"
  }
 },
 "nbformat": 4,
 "nbformat_minor": 2
}
